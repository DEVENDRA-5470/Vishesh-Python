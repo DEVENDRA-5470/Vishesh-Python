{
 "cells": [
  {
   "cell_type": "code",
   "execution_count": null,
   "id": "78f1d867-52e5-4d5a-a6df-68fcab25b62c",
   "metadata": {},
   "outputs": [],
   "source": [
    "# Defination and properties of tuple\n",
    "# Creation of tuple.\n",
    "# Accessing of tuple.\n",
    "# Updation of tuple. ❌\n",
    "# Slicing of tuple. \n",
    "# Traversing of tuple.\n",
    "# In-built method of tuple.\n",
    "# Assignment."
   ]
  },
  {
   "cell_type": "code",
   "execution_count": null,
   "id": "b9013014-85d4-4759-b867-9d4abfcca4dd",
   "metadata": {},
   "outputs": [],
   "source": [
    "# Tuple is data structure in python used to store multiple values of differen types with comma sepreated in ().\n",
    "# Tuple immutable \n",
    "# tuple are ordered,indexed , support slicing"
   ]
  },
  {
   "cell_type": "code",
   "execution_count": 7,
   "id": "77f75d0e-b086-4b74-9153-07c9343fb0bc",
   "metadata": {},
   "outputs": [
    {
     "name": "stdout",
     "output_type": "stream",
     "text": [
      "(90, 29, 10)\n",
      "10\n"
     ]
    }
   ],
   "source": [
    "t1=(10,29,90)\n",
    "# t1[0]=400\n",
    "print(t1[::-1])\n",
    "print(t1[0])"
   ]
  },
  {
   "cell_type": "code",
   "execution_count": 9,
   "id": "e5d57e09-5cc6-4ea9-9b10-c97cd525857e",
   "metadata": {},
   "outputs": [
    {
     "name": "stdout",
     "output_type": "stream",
     "text": [
      "10\n",
      "29\n",
      "90\n"
     ]
    }
   ],
   "source": [
    "# Traversing of tuple.\n",
    "# t1=(10,29,90)\n",
    "# for i in range(len(t1)):\n",
    "#     print(t1[i])"
   ]
  },
  {
   "cell_type": "code",
   "execution_count": 14,
   "id": "f5df84c9-fd62-4bd9-b651-a3fd6d890659",
   "metadata": {},
   "outputs": [
    {
     "data": {
      "text/plain": [
       "0"
      ]
     },
     "execution_count": 14,
     "metadata": {},
     "output_type": "execute_result"
    }
   ],
   "source": [
    "# In-built method of tuple.\n",
    "t1=(10,29,90)\n",
    "# t1.count(10)\n",
    "t1.index(10)"
   ]
  },
  {
   "cell_type": "code",
   "execution_count": null,
   "id": "6d3dc3e9-2e7b-48a1-967a-ca1251273c4f",
   "metadata": {},
   "outputs": [],
   "source": [
    "t1=tuple()"
   ]
  }
 ],
 "metadata": {
  "kernelspec": {
   "display_name": "Python 3 (ipykernel)",
   "language": "python",
   "name": "python3"
  },
  "language_info": {
   "codemirror_mode": {
    "name": "ipython",
    "version": 3
   },
   "file_extension": ".py",
   "mimetype": "text/x-python",
   "name": "python",
   "nbconvert_exporter": "python",
   "pygments_lexer": "ipython3",
   "version": "3.13.5"
  }
 },
 "nbformat": 4,
 "nbformat_minor": 5
}
