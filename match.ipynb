{
 "cells": [
  {
   "cell_type": "code",
   "execution_count": 3,
   "id": "8fbf449c-922d-4077-bb34-7bff772ec8b9",
   "metadata": {},
   "outputs": [
    {
     "name": "stdin",
     "output_type": "stream",
     "text": [
      "Enter Product Status ... : shipped\n"
     ]
    },
    {
     "name": "stdout",
     "output_type": "stream",
     "text": [
      "Your order in on the way\n"
     ]
    }
   ],
   "source": [
    "# Match case (switch statement)\n",
    "product_status=input(\"Enter Product Status ... :\")\n",
    "if product_status==\"pending\":\n",
    "    print(\"Your Product is ordered but in pending phase\")\n",
    "elif product_status==\"confirmed\":\n",
    "    print(\"Your product has been confirmed \")\n",
    "elif product_status==\"shipped\":\n",
    "    print(\"Your order in on the way\")\n",
    "elif product_status==\"delivered\":\n",
    "    print(\"Your product has been delivered\")\n",
    "else:\n",
    "    print(\"Something went wrong..\")"
   ]
  },
  {
   "cell_type": "code",
   "execution_count": 5,
   "id": "dba7627d-52f6-4d10-83be-b6024a1b3871",
   "metadata": {},
   "outputs": [
    {
     "name": "stdin",
     "output_type": "stream",
     "text": [
      "Enter Product Status ... : pending\n"
     ]
    },
    {
     "name": "stdout",
     "output_type": "stream",
     "text": [
      "Your Product is ordered but in pending phase\n"
     ]
    }
   ],
   "source": [
    "# Match case (switch statement)\n",
    "product_status=input(\"Enter Product Status ... :\")\n",
    "match product_status:\n",
    "    case \"pending\":\n",
    "        print(\"Your Product is ordered but in pending phase\")\n",
    "    case \"confirmed\":\n",
    "        print(\"Your product has been confirmed \")\n",
    "    case \"shipped\":\n",
    "        print(\"Your order in on the way\")\n",
    "    case \"delivered\":\n",
    "        print(\"Your product has been delivered\")\n",
    "    case _:\n",
    "        print(\"Something went wrong..\")"
   ]
  },
  {
   "cell_type": "code",
   "execution_count": 28,
   "id": "9c5777a0-1992-4262-a28e-8680773c6f0a",
   "metadata": {},
   "outputs": [
    {
     "name": "stdout",
     "output_type": "stream",
     "text": [
      "NAIKAL JA\n"
     ]
    }
   ],
   "source": [
    "stu_class = 21;\n",
    "match stu_class:\n",
    "    case 1|2|3|4|5|6|7|8:\n",
    "        print(\"Schooling..\")\n",
    "    case 9|10:\n",
    "        print(\"Matrix..\")\n",
    "    case 11|12:\n",
    "        print(\"Intermidiate\")\n",
    "    case _:\n",
    "        print(\"NAIKAL JA\")\n"
   ]
  }
 ],
 "metadata": {
  "kernelspec": {
   "display_name": "Python 3 (ipykernel)",
   "language": "python",
   "name": "python3"
  },
  "language_info": {
   "codemirror_mode": {
    "name": "ipython",
    "version": 3
   },
   "file_extension": ".py",
   "mimetype": "text/x-python",
   "name": "python",
   "nbconvert_exporter": "python",
   "pygments_lexer": "ipython3",
   "version": "3.13.3"
  }
 },
 "nbformat": 4,
 "nbformat_minor": 5
}
