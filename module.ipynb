{
 "cells": [
  {
   "cell_type": "code",
   "execution_count": null,
   "id": "6aa7fd57-d14f-4c16-bd11-4a1e7cfb5826",
   "metadata": {},
   "outputs": [],
   "source": [
    "# type of module\n",
    "1.User-define-module \n",
    "2.In-built module\n",
    "\n",
    "# random module\n",
    "# string module\n",
    "# math module\n",
    "# datetime module\n",
    "# os module\n",
    "# sys module\n"
   ]
  },
  {
   "cell_type": "code",
   "execution_count": 104,
   "id": "80391389-40b4-486b-8d79-20d568fe963c",
   "metadata": {},
   "outputs": [
    {
     "name": "stdout",
     "output_type": "stream",
     "text": [
      "56\n"
     ]
    }
   ],
   "source": [
    "\n",
    "import random\n",
    "res=random.random()*10000\n",
    "print(int(res))"
   ]
  },
  {
   "cell_type": "code",
   "execution_count": 134,
   "id": "263616d4-4ef6-4caa-afb8-91ed35ea2b9c",
   "metadata": {},
   "outputs": [
    {
     "name": "stdout",
     "output_type": "stream",
     "text": [
      "d\n"
     ]
    }
   ],
   "source": [
    "data=[\"a\",\"b\",\"c\",\"d\"]\n",
    "cho=random.choice(data)\n",
    "print(cho)"
   ]
  },
  {
   "cell_type": "code",
   "execution_count": 207,
   "id": "9fe300c2-1b1b-480d-93b6-1f10da37f059",
   "metadata": {},
   "outputs": [
    {
     "name": "stdout",
     "output_type": "stream",
     "text": [
      "['c', 'd', 'c', 'a']\n"
     ]
    }
   ],
   "source": [
    "data=[\"a\",\"b\",\"c\",\"d\"]\n",
    "cho=random.choices(data,weights=[1,1,1,1],k=4)\n",
    "print(cho)"
   ]
  },
  {
   "cell_type": "code",
   "execution_count": 250,
   "id": "49c44370-b55d-42ad-ac62-3ba03f9c7878",
   "metadata": {},
   "outputs": [
    {
     "name": "stdout",
     "output_type": "stream",
     "text": [
      "['c', 'd', 'a', 'b']\n"
     ]
    }
   ],
   "source": [
    "data=[\"a\",\"b\",\"c\",\"d\"]\n",
    "cho=random.sample(data,k=4)\n",
    "print(cho)"
   ]
  },
  {
   "cell_type": "code",
   "execution_count": 280,
   "id": "1b208cac-add7-4c21-9084-580ce1c66edc",
   "metadata": {},
   "outputs": [
    {
     "name": "stdout",
     "output_type": "stream",
     "text": [
      "6\n"
     ]
    }
   ],
   "source": [
    "print(random.randint(5,8))"
   ]
  },
  {
   "cell_type": "code",
   "execution_count": 308,
   "id": "da29143f-4c29-4257-89af-34d4a4a3d1bf",
   "metadata": {},
   "outputs": [
    {
     "name": "stdout",
     "output_type": "stream",
     "text": [
      "6\n"
     ]
    }
   ],
   "source": [
    "print(random.randrange(5,8))"
   ]
  },
  {
   "cell_type": "code",
   "execution_count": 333,
   "id": "fa3607d5-1eee-4349-93c7-26397f34a23c",
   "metadata": {},
   "outputs": [
    {
     "name": "stdout",
     "output_type": "stream",
     "text": [
      "['a', 'c', 'd', 'b']\n"
     ]
    }
   ],
   "source": [
    "data=[\"a\",\"b\",\"c\",\"d\"]\n",
    "random.shuffle(data)\n",
    "print(data)"
   ]
  },
  {
   "cell_type": "code",
   "execution_count": 344,
   "id": "d138df8d-4a59-4f55-a1d2-edbb625422ef",
   "metadata": {},
   "outputs": [],
   "source": [
    "# import string\n",
    "# print(string.digits)\n",
    "# print(string.ascii_uppercase)\n",
    "# print(string.ascii_lowercase)\n",
    "# print(string.ascii_letters)\n",
    "# print(string.ascii_letters+string.digits)\n"
   ]
  },
  {
   "cell_type": "code",
   "execution_count": 428,
   "id": "7bbbd061-ebdb-4855-9f6e-9acbd011068f",
   "metadata": {},
   "outputs": [
    {
     "name": "stdout",
     "output_type": "stream",
     "text": [
      "EMP-ID SOGF4WHM\n",
      "EMP-ID KTUXLFRH\n",
      "EMP-ID 7GILDFVM\n",
      "EMP-ID JKQTKROL\n",
      "EMP-ID T1MQ9IFK\n",
      "EMP-ID 1VFJIYAO\n",
      "EMP-ID ZUSB1GIH\n",
      "EMP-ID GDY6LFZA\n",
      "EMP-ID JKK8CLML\n",
      "EMP-ID G48FOQHL\n"
     ]
    }
   ],
   "source": [
    "for i in range(1,11):\n",
    "    print(\"EMP-ID \"+\"\".join(random.sample(string.ascii_letters+string.digits,k=8)).upper())"
   ]
  }
 ],
 "metadata": {
  "kernelspec": {
   "display_name": "Python 3 (ipykernel)",
   "language": "python",
   "name": "python3"
  },
  "language_info": {
   "codemirror_mode": {
    "name": "ipython",
    "version": 3
   },
   "file_extension": ".py",
   "mimetype": "text/x-python",
   "name": "python",
   "nbconvert_exporter": "python",
   "pygments_lexer": "ipython3",
   "version": "3.13.5"
  }
 },
 "nbformat": 4,
 "nbformat_minor": 5
}
