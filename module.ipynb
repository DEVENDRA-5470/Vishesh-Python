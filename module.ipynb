{
 "cells": [
  {
   "cell_type": "code",
   "execution_count": null,
   "id": "6aa7fd57-d14f-4c16-bd11-4a1e7cfb5826",
   "metadata": {},
   "outputs": [],
   "source": [
    "# type of module\n",
    "1.User-define-module \n",
    "2.In-built module\n",
    "\n",
    "# random module\n",
    "# string module\n",
    "# math module\n",
    "# datetime module\n",
    "# os module\n",
    "# sys module\n"
   ]
  },
  {
   "cell_type": "code",
   "execution_count": 104,
   "id": "80391389-40b4-486b-8d79-20d568fe963c",
   "metadata": {},
   "outputs": [
    {
     "name": "stdout",
     "output_type": "stream",
     "text": [
      "56\n"
     ]
    }
   ],
   "source": [
    "\n",
    "import random\n",
    "res=random.random()*10000\n",
    "print(int(res))"
   ]
  },
  {
   "cell_type": "code",
   "execution_count": 134,
   "id": "263616d4-4ef6-4caa-afb8-91ed35ea2b9c",
   "metadata": {},
   "outputs": [
    {
     "name": "stdout",
     "output_type": "stream",
     "text": [
      "d\n"
     ]
    }
   ],
   "source": [
    "data=[\"a\",\"b\",\"c\",\"d\"]\n",
    "cho=random.choice(data)\n",
    "print(cho)"
   ]
  },
  {
   "cell_type": "code",
   "execution_count": 207,
   "id": "9fe300c2-1b1b-480d-93b6-1f10da37f059",
   "metadata": {},
   "outputs": [
    {
     "name": "stdout",
     "output_type": "stream",
     "text": [
      "['c', 'd', 'c', 'a']\n"
     ]
    }
   ],
   "source": [
    "data=[\"a\",\"b\",\"c\",\"d\"]\n",
    "cho=random.choices(data,weights=[1,1,1,1],k=4)\n",
    "print(cho)"
   ]
  },
  {
   "cell_type": "code",
   "execution_count": 250,
   "id": "49c44370-b55d-42ad-ac62-3ba03f9c7878",
   "metadata": {},
   "outputs": [
    {
     "name": "stdout",
     "output_type": "stream",
     "text": [
      "['c', 'd', 'a', 'b']\n"
     ]
    }
   ],
   "source": [
    "data=[\"a\",\"b\",\"c\",\"d\"]\n",
    "cho=random.sample(data,k=4)\n",
    "print(cho)"
   ]
  },
  {
   "cell_type": "code",
   "execution_count": 280,
   "id": "1b208cac-add7-4c21-9084-580ce1c66edc",
   "metadata": {},
   "outputs": [
    {
     "name": "stdout",
     "output_type": "stream",
     "text": [
      "6\n"
     ]
    }
   ],
   "source": [
    "print(random.randint(5,8))"
   ]
  },
  {
   "cell_type": "code",
   "execution_count": 308,
   "id": "da29143f-4c29-4257-89af-34d4a4a3d1bf",
   "metadata": {},
   "outputs": [
    {
     "name": "stdout",
     "output_type": "stream",
     "text": [
      "6\n"
     ]
    }
   ],
   "source": [
    "print(random.randrange(5,8))"
   ]
  },
  {
   "cell_type": "code",
   "execution_count": 333,
   "id": "fa3607d5-1eee-4349-93c7-26397f34a23c",
   "metadata": {},
   "outputs": [
    {
     "name": "stdout",
     "output_type": "stream",
     "text": [
      "['a', 'c', 'd', 'b']\n"
     ]
    }
   ],
   "source": [
    "data=[\"a\",\"b\",\"c\",\"d\"]\n",
    "random.shuffle(data)\n",
    "print(data)"
   ]
  },
  {
   "cell_type": "code",
   "execution_count": 344,
   "id": "d138df8d-4a59-4f55-a1d2-edbb625422ef",
   "metadata": {},
   "outputs": [],
   "source": [
    "# import string\n",
    "# print(string.digits)\n",
    "# print(string.ascii_uppercase)\n",
    "# print(string.ascii_lowercase)\n",
    "# print(string.ascii_letters)\n",
    "# print(string.ascii_letters+string.digits)\n"
   ]
  },
  {
   "cell_type": "code",
   "execution_count": 428,
   "id": "7bbbd061-ebdb-4855-9f6e-9acbd011068f",
   "metadata": {},
   "outputs": [
    {
     "name": "stdout",
     "output_type": "stream",
     "text": [
      "EMP-ID SOGF4WHM\n",
      "EMP-ID KTUXLFRH\n",
      "EMP-ID 7GILDFVM\n",
      "EMP-ID JKQTKROL\n",
      "EMP-ID T1MQ9IFK\n",
      "EMP-ID 1VFJIYAO\n",
      "EMP-ID ZUSB1GIH\n",
      "EMP-ID GDY6LFZA\n",
      "EMP-ID JKK8CLML\n",
      "EMP-ID G48FOQHL\n"
     ]
    }
   ],
   "source": [
    "for i in range(1,11):\n",
    "    print(\"EMP-ID \"+\"\".join(random.sample(string.ascii_letters+string.digits,k=8)).upper())"
   ]
  },
  {
   "cell_type": "code",
   "execution_count": 4,
   "id": "5e9524b0-8a65-4137-937b-ec0cfebcb75a",
   "metadata": {},
   "outputs": [
    {
     "data": {
      "text/plain": [
       "'Odd'"
      ]
     },
     "execution_count": 4,
     "metadata": {},
     "output_type": "execute_result"
    }
   ],
   "source": [
    "# user define module\n",
    "from my_odd_even import odd_even\n",
    "odd_even(11)"
   ]
  },
  {
   "cell_type": "code",
   "execution_count": 7,
   "id": "c0faad19-1906-4f7b-ac94-00d382d03151",
   "metadata": {},
   "outputs": [
    {
     "data": {
      "text/plain": [
       "10"
      ]
     },
     "execution_count": 7,
     "metadata": {},
     "output_type": "execute_result"
    }
   ],
   "source": [
    "from my_add import add\n",
    "add(1)"
   ]
  },
  {
   "cell_type": "code",
   "execution_count": 16,
   "id": "2e5e541b-0ccf-4180-8d09-e1ab9733a88f",
   "metadata": {},
   "outputs": [
    {
     "data": {
      "text/plain": [
       "5"
      ]
     },
     "execution_count": 16,
     "metadata": {},
     "output_type": "execute_result"
    }
   ],
   "source": [
    "from my_res import res_str,add_num\n",
    "from my_res import *\n",
    "\n",
    "add_num(2,3)"
   ]
  },
  {
   "cell_type": "code",
   "execution_count": 17,
   "id": "334bc297-cf27-4441-bcd5-7fb34fe64229",
   "metadata": {},
   "outputs": [
    {
     "data": {
      "text/plain": [
       "'hsehsiv'"
      ]
     },
     "execution_count": 17,
     "metadata": {},
     "output_type": "execute_result"
    }
   ],
   "source": [
    "res_str(\"vishesh\")"
   ]
  },
  {
   "cell_type": "code",
   "execution_count": 32,
   "id": "96ae81a5-0566-4dc7-9376-43366d09de59",
   "metadata": {},
   "outputs": [
    {
     "name": "stdout",
     "output_type": "stream",
     "text": [
      "8.0\n",
      "120\n",
      "23.0\n",
      "5.0\n",
      "6\n",
      "50\n"
     ]
    }
   ],
   "source": [
    " # math module\n",
    "import math\n",
    "print(math.pow(2,3))\n",
    "print(math.factorial(5))\n",
    "print(math.fabs(-23))\n",
    "print(math.sqrt(25))\n",
    "print(math.prod([2,3]))\n",
    "print(math.floor(50.33))"
   ]
  },
  {
   "cell_type": "code",
   "execution_count": 64,
   "id": "9ee908e3-4572-4d0e-ba51-ca7098690178",
   "metadata": {},
   "outputs": [
    {
     "name": "stdout",
     "output_type": "stream",
     "text": [
      "Sunday 17-08-2025 09:01:33 AM\n"
     ]
    }
   ],
   "source": [
    "# datetime module\n",
    "# from datetime import datetime\n",
    "# now=datetime.now()\n",
    "# print(now.date())\n",
    "# print(now.weekday())\n",
    "# print(now.day)\n",
    "# print(now.hour)\n",
    "# print(now.minute)\n",
    "# print(now.strftime(\"%A %d-%m-%Y %H:%M:%S %p\"))"
   ]
  },
  {
   "cell_type": "code",
   "execution_count": 73,
   "id": "fd2617dd-4671-4075-b029-d3f8eb7ed343",
   "metadata": {},
   "outputs": [
    {
     "name": "stdout",
     "output_type": "stream",
     "text": [
      "C:\\Users\\dev\\OneDrive\\Desktop\\DEV-CLASSES\\VISHESH CLASSES\\JAVASCRIPT\n"
     ]
    }
   ],
   "source": [
    "# os module\n",
    "import os\n",
    "print(os.getcwd())\n",
    "# os.chdir(r'C:\\Users\\dev\\OneDrive\\Desktop\\DEV-CLASSES\\VISHESH CLASSES\\JAVASCRIPT')\n",
    "# print(os.getcwd())\n",
    "# os.mkdir(\"I_am_dev\")\n",
    "# for i in os.listdir():\n",
    "#     print(i)"
   ]
  },
  {
   "cell_type": "code",
   "execution_count": 77,
   "id": "e51e68bb-1f6e-4c58-afab-3280efdef05d",
   "metadata": {},
   "outputs": [],
   "source": [
    "# os.chdir(r'C:\\Users\\dev\\VISHESH-PYTHON')\n",
    "# print(os.getcwd())\n",
    "# os.mkdir(\"new_dir\")"
   ]
  },
  {
   "cell_type": "code",
   "execution_count": null,
   "id": "cbefbe25-e8eb-4e5e-b43b-d19afe5a667c",
   "metadata": {},
   "outputs": [],
   "source": []
  }
 ],
 "metadata": {
  "kernelspec": {
   "display_name": "Python 3 (ipykernel)",
   "language": "python",
   "name": "python3"
  },
  "language_info": {
   "codemirror_mode": {
    "name": "ipython",
    "version": 3
   },
   "file_extension": ".py",
   "mimetype": "text/x-python",
   "name": "python",
   "nbconvert_exporter": "python",
   "pygments_lexer": "ipython3",
   "version": "3.13.5"
  }
 },
 "nbformat": 4,
 "nbformat_minor": 5
}
