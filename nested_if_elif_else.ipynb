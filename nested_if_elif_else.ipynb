{
 "cells": [
  {
   "cell_type": "code",
   "execution_count": 11,
   "id": "6055db71-c494-486b-b3d6-4b3bd24d1f38",
   "metadata": {},
   "outputs": [
    {
     "name": "stdout",
     "output_type": "stream",
     "text": [
      "ha hai\n",
      "no ok\n"
     ]
    }
   ],
   "source": [
    "# n=120\n",
    "# if n>=10:\n",
    "#     if n>=100:\n",
    "#         print(\"ha hai\")\n",
    "#         if n<100:\n",
    "#             print(\"Ok hai\")\n",
    "#         else:\n",
    "#             print(\"no ok\")\n",
    "#     else:\n",
    "#         print(\"no ha hai\")\n",
    "            \n",
    "# else:\n",
    "#     print(\"NO-1\")\n",
    "        "
   ]
  },
  {
   "cell_type": "code",
   "execution_count": null,
   "id": "a00cc02d-1291-412e-9f29-c1e242c2c50f",
   "metadata": {},
   "outputs": [],
   "source": []
  }
 ],
 "metadata": {
  "kernelspec": {
   "display_name": "Python 3 (ipykernel)",
   "language": "python",
   "name": "python3"
  },
  "language_info": {
   "codemirror_mode": {
    "name": "ipython",
    "version": 3
   },
   "file_extension": ".py",
   "mimetype": "text/x-python",
   "name": "python",
   "nbconvert_exporter": "python",
   "pygments_lexer": "ipython3",
   "version": "3.13.3"
  }
 },
 "nbformat": 4,
 "nbformat_minor": 5
}
