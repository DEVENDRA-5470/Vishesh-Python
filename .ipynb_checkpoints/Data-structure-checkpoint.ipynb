{
 "cells": [
  {
   "cell_type": "code",
   "execution_count": null,
   "id": "24bfe6d5-9b5c-416f-be25-4b23ab53ba7d",
   "metadata": {},
   "outputs": [],
   "source": [
    "# What is Data structure ?"
   ]
  },
  {
   "cell_type": "code",
   "execution_count": null,
   "id": "596ae856-561c-4f6f-aae5-92ff10450d20",
   "metadata": {},
   "outputs": [],
   "source": []
  }
 ],
 "metadata": {
  "kernelspec": {
   "display_name": "Python 3 (ipykernel)",
   "language": "python",
   "name": "python3"
  },
  "language_info": {
   "codemirror_mode": {
    "name": "ipython",
    "version": 3
   },
   "file_extension": ".py",
   "mimetype": "text/x-python",
   "name": "python",
   "nbconvert_exporter": "python",
   "pygments_lexer": "ipython3",
   "version": "3.13.3"
  }
 },
 "nbformat": 4,
 "nbformat_minor": 5
}
