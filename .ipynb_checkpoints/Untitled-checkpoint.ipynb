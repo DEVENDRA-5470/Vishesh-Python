{
 "cells": [
  {
   "cell_type": "code",
   "execution_count": 1,
   "id": "9b806b4f-9561-48ec-9fae-5662cf8febf2",
   "metadata": {},
   "outputs": [
    {
     "name": "stdout",
     "output_type": "stream",
     "text": [
      "How are you\n"
     ]
    }
   ],
   "source": [
    "print(\"How are you\")"
   ]
  },
  {
   "cell_type": "code",
   "execution_count": 2,
   "id": "0f2d04e8-d110-46e3-bbf3-643823f8c34d",
   "metadata": {},
   "outputs": [
    {
     "name": "stdout",
     "output_type": "stream",
     "text": [
      "30\n"
     ]
    }
   ],
   "source": [
    "a=10\n",
    "b=20\n",
    "print(a+b)\n",
    "print(\"11\")"
   ]
  }
 ],
 "metadata": {
  "kernelspec": {
   "display_name": "Python 3 (ipykernel)",
   "language": "python",
   "name": "python3"
  },
  "language_info": {
   "codemirror_mode": {
    "name": "ipython",
    "version": 3
   },
   "file_extension": ".py",
   "mimetype": "text/x-python",
   "name": "python",
   "nbconvert_exporter": "python",
   "pygments_lexer": "ipython3",
   "version": "3.13.5"
  }
 },
 "nbformat": 4,
 "nbformat_minor": 5
}
