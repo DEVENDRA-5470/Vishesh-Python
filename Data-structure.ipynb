{
 "cells": [
  {
   "cell_type": "code",
   "execution_count": null,
   "id": "24bfe6d5-9b5c-416f-be25-4b23ab53ba7d",
   "metadata": {},
   "outputs": [],
   "source": [
    "# What is Data structure ?\n",
    "# Storing data in the memoring in right from or efficient way for fast future operation(read,update,delete etc.) in those data\n",
    "# is known as data structuring.\n",
    "# Data structure are used to store multiple data/value/information in a single variable/objects.\n",
    "\n",
    "# Type data structure(collections) in python .\n",
    "# 1.List\n",
    "# 2.String\n",
    "# 3.Tuple\n",
    "# 4.Set\n",
    "# 5.Dictionary"
   ]
  },
  {
   "cell_type": "code",
   "execution_count": null,
   "id": "983de833-1f69-49f1-b649-3bd6b4a119db",
   "metadata": {},
   "outputs": [],
   "source": [
    "# Defination and properties of list\n",
    "# Creation of list.\n",
    "# Accessing of list.\n",
    "# Updation of list.\n",
    "# Slicing of list.\n",
    "# Traversing of list.\n",
    "# In-built method of list.\n",
    "# Assignment."
   ]
  },
  {
   "cell_type": "code",
   "execution_count": 1,
   "id": "596ae856-561c-4f6f-aae5-92ff10450d20",
   "metadata": {},
   "outputs": [],
   "source": [
    "# 1.List\n",
    "List is a dynamic data structure in python used to store multiple \n",
    "data of different types of data in a single variable/object.\n",
    "\n",
    "Properties of List:\n",
    "1.List are mutable in nature.(you can update/modification the element of list ).\n",
    "2.List are indexed,ordered and support slicing.\n",
    "3.List can be homogenous(have same properties) and hetrogenous(have various properites).\n",
    "4.Dynamic memory size allocation.                                                            \n"
   ]
  },
  {
   "cell_type": "code",
   "execution_count": null,
   "id": "7217da92-9d26-45bd-8a93-4cec60b2ec9f",
   "metadata": {},
   "outputs": [],
   "source": [
    "# Creation of list.\n",
    "# 1 using [] \n",
    "# 2 using list() method"
   ]
  },
  {
   "cell_type": "code",
   "execution_count": 33,
   "id": "766ff2d0-e2cb-4046-ac6b-cf9c0ae95a3d",
   "metadata": {},
   "outputs": [
    {
     "name": "stdout",
     "output_type": "stream",
     "text": [
      "[10, 40, 50, 33, 56, 89, 78, 38, 87]\n",
      "Length :9\n",
      "Size :136\n"
     ]
    }
   ],
   "source": [
    "# 1 using [] \n",
    "stu_marks=[10,40,50,33,56,89,78,38,87] # homogenous\n",
    "stu_details=[980000,\"faridabad 100121\",\"dev@gmail.com\",True,False,69,80] # hetrogenous.\n",
    "\n",
    "# print(type(stu_marks))\n",
    "print(stu_marks)\n",
    "print(f\"Length :{len(stu_marks)}\")\n",
    "\n",
    "# Checking size\n",
    "import sys\n",
    "print(f\"Size :{sys.getsizeof(stu_marks)}\")"
   ]
  },
  {
   "cell_type": "code",
   "execution_count": 36,
   "id": "95c17f68-b17e-4135-a0b3-564124eef380",
   "metadata": {},
   "outputs": [
    {
     "name": "stdout",
     "output_type": "stream",
     "text": [
      "['d', 'e', 'v']\n",
      "<class 'list'>\n"
     ]
    }
   ],
   "source": [
    "# 2 using list() method.\n",
    "stu_marks=list(\"dev\")\n",
    "print(stu_marks)\n",
    "print(type(stu_marks))"
   ]
  },
  {
   "cell_type": "code",
   "execution_count": 48,
   "id": "a76e6a2f-f91e-4856-90fc-63a2aa520bb9",
   "metadata": {},
   "outputs": [
    {
     "name": "stdout",
     "output_type": "stream",
     "text": [
      "38\n",
      "33\n"
     ]
    }
   ],
   "source": [
    "# Accessing of list.\n",
    "stu_marks=[88,8,40,50,33,56,89,78,38,87]\n",
    "index=len(stu_marks)-2\n",
    "print(stu_marks[index])\n",
    "print(stu_marks[4])"
   ]
  },
  {
   "cell_type": "code",
   "execution_count": 51,
   "id": "aded2570-74fc-4a2e-9ef3-149c7a125105",
   "metadata": {},
   "outputs": [
    {
     "name": "stdout",
     "output_type": "stream",
     "text": [
      "[88, 8, 40, 50, 33, 56, 89, 'aaj ke liye bahut hai', 38, 87]\n"
     ]
    }
   ],
   "source": [
    "# Updation of list.\n",
    "stu_marks=[88,8,40,50,33,56,89,78,38,87]\n",
    "stu_marks[7] =\"aaj ke liye bahut hai\"\n",
    "print(stu_marks)"
   ]
  }
 ],
 "metadata": {
  "kernelspec": {
   "display_name": "Python 3 (ipykernel)",
   "language": "python",
   "name": "python3"
  },
  "language_info": {
   "codemirror_mode": {
    "name": "ipython",
    "version": 3
   },
   "file_extension": ".py",
   "mimetype": "text/x-python",
   "name": "python",
   "nbconvert_exporter": "python",
   "pygments_lexer": "ipython3",
   "version": "3.13.3"
  }
 },
 "nbformat": 4,
 "nbformat_minor": 5
}
