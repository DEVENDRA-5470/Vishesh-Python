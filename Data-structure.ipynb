{
 "cells": [
  {
   "cell_type": "code",
   "execution_count": null,
   "id": "24bfe6d5-9b5c-416f-be25-4b23ab53ba7d",
   "metadata": {},
   "outputs": [],
   "source": [
    "# What is Data structure ?\n",
    "# Storing data in the memoring in right from or efficient way for fast future operation(read,update,delete etc.) in those data\n",
    "# is known as data structuring.\n",
    "# Data structure are used to store multiple data/value/information in a single variable/objects.\n",
    "\n",
    "# Type data structure(collections) in python .\n",
    "# 1.List ✅\n",
    "# 2.String\n",
    "# 3.Tuple\n",
    "# 4.Set\n",
    "# 5.Dictionary"
   ]
  },
  {
   "cell_type": "code",
   "execution_count": null,
   "id": "983de833-1f69-49f1-b649-3bd6b4a119db",
   "metadata": {},
   "outputs": [],
   "source": [
    "# Defination and properties of list\n",
    "# Creation of list.\n",
    "# Accessing of list.\n",
    "# Updation of list.\n",
    "# Slicing of list.\n",
    "# Traversing of list.\n",
    "# In-built method of list.\n",
    "# Assignment."
   ]
  },
  {
   "cell_type": "code",
   "execution_count": 1,
   "id": "596ae856-561c-4f6f-aae5-92ff10450d20",
   "metadata": {},
   "outputs": [],
   "source": [
    "# 1.List\n",
    "List is a dynamic data structure in python used to store multiple \n",
    "data of different types of data in a single variable/object.\n",
    "\n",
    "Properties of List:\n",
    "1.List are mutable in nature.(you can update/modification the element of list ).\n",
    "2.List are indexed,ordered and support slicing.\n",
    "3.List can be homogenous(have same properties) and hetrogenous(have various properites).\n",
    "4.Dynamic memory size allocation.                                                            \n"
   ]
  },
  {
   "cell_type": "code",
   "execution_count": null,
   "id": "7217da92-9d26-45bd-8a93-4cec60b2ec9f",
   "metadata": {},
   "outputs": [],
   "source": [
    "# Creation of list.\n",
    "# 1 using [] \n",
    "# 2 using list() method"
   ]
  },
  {
   "cell_type": "code",
   "execution_count": 33,
   "id": "766ff2d0-e2cb-4046-ac6b-cf9c0ae95a3d",
   "metadata": {},
   "outputs": [
    {
     "name": "stdout",
     "output_type": "stream",
     "text": [
      "[10, 40, 50, 33, 56, 89, 78, 38, 87]\n",
      "Length :9\n",
      "Size :136\n"
     ]
    }
   ],
   "source": [
    "# 1 using [] \n",
    "stu_marks=[10,40,50,33,56,89,78,38,87] # homogenous\n",
    "stu_details=[980000,\"faridabad 100121\",\"dev@gmail.com\",True,False,69,80] # hetrogenous.\n",
    "\n",
    "# print(type(stu_marks))\n",
    "print(stu_marks)\n",
    "print(f\"Length :{len(stu_marks)}\")\n",
    "\n",
    "# Checking size\n",
    "import sys\n",
    "print(f\"Size :{sys.getsizeof(stu_marks)}\")"
   ]
  },
  {
   "cell_type": "code",
   "execution_count": 36,
   "id": "95c17f68-b17e-4135-a0b3-564124eef380",
   "metadata": {},
   "outputs": [
    {
     "name": "stdout",
     "output_type": "stream",
     "text": [
      "['d', 'e', 'v']\n",
      "<class 'list'>\n"
     ]
    }
   ],
   "source": [
    "# 2 using list() method.\n",
    "stu_marks=list(\"dev\")\n",
    "print(stu_marks)\n",
    "print(type(stu_marks))"
   ]
  },
  {
   "cell_type": "code",
   "execution_count": 48,
   "id": "a76e6a2f-f91e-4856-90fc-63a2aa520bb9",
   "metadata": {},
   "outputs": [
    {
     "name": "stdout",
     "output_type": "stream",
     "text": [
      "38\n",
      "33\n"
     ]
    }
   ],
   "source": [
    "# Accessing of list.\n",
    "stu_marks=[88,8,40,50,33,56,89,78,38,87]\n",
    "index=len(stu_marks)-2\n",
    "print(stu_marks[index])\n",
    "print(stu_marks[4])"
   ]
  },
  {
   "cell_type": "code",
   "execution_count": 51,
   "id": "aded2570-74fc-4a2e-9ef3-149c7a125105",
   "metadata": {},
   "outputs": [
    {
     "name": "stdout",
     "output_type": "stream",
     "text": [
      "[88, 8, 40, 50, 33, 56, 89, 'aaj ke liye bahut hai', 38, 87]\n"
     ]
    }
   ],
   "source": [
    "# Updation of list.\n",
    "stu_marks=[88,8,40,50,33,56,89,78,38,87]\n",
    "stu_marks[7] =\"aaj ke liye bahut hai\"\n",
    "print(stu_marks)"
   ]
  },
  {
   "cell_type": "code",
   "execution_count": 41,
   "id": "9085b1ae-62ab-4292-ad4e-1e04ae8a987b",
   "metadata": {},
   "outputs": [
    {
     "name": "stdout",
     "output_type": "stream",
     "text": [
      "[[1, 2, 3, 4, 5], [1, 2, 3, 4, 5]]\n"
     ]
    }
   ],
   "source": [
    "# list comprehension\n",
    "# it is methedology to create list very quickly and efficiently.\n",
    "\n",
    "# without LC (Traditional)\n",
    "# my_list=[]\n",
    "# for i in range(1,110):\n",
    "#     my_list.append(i)\n",
    "# print(my_list)\n",
    "\n",
    "# Using LC (Standard)\n",
    "# my_list=[i for i in range(1,21)]\n",
    "# print(my_list)\n",
    "\n",
    "\n",
    "# my_list=[]\n",
    "# for i in range(1,11):\n",
    "#     if i%2==0:\n",
    "#         my_list.append(i)\n",
    "# print(my_list)\n",
    "\n",
    "# my_list=[i for i in range(1,21) if i%2!=0]\n",
    "# print(my_list)\n",
    "\n",
    "# my_list=[]\n",
    "# for i in range(1,11):\n",
    "#     my_list.append(i**2)\n",
    "# print(my_list)\n",
    "\n",
    "# my_list=[i**2 for i in range(1,11)]\n",
    "# print(my_list)\n",
    "\n",
    "# my_list=[]\n",
    "# for i in range(1,11):\n",
    "#     if i%2==0:\n",
    "#         my_list.append(str(i)+\":EVEN\")\n",
    "#     else:\n",
    "#         my_list.append(str(i)+\":ODD\")\n",
    "# print(my_list)\n",
    "\n",
    "# my_list=[str(i)+\":Even\" if i%2==0 else str(i)+\":ODD\" for i in range(1,11)]\n",
    "# print(my_list)\n",
    "\n",
    "# nest_list=[[i for i in range(1,6) ] for e in range(1,3)]\n",
    "# print(nest_list)"
   ]
  },
  {
   "cell_type": "code",
   "execution_count": null,
   "id": "8910b70a-5c25-4ca0-a229-9bb43db31155",
   "metadata": {},
   "outputs": [],
   "source": [
    "# 2.String\n",
    "# Defination and properties of string\n",
    "# Creation of string.\n",
    "# Accessing of stringt.\n",
    "# Updation of string. ❌\n",
    "# Slicing of string.\n",
    "# Traversing of string.\n",
    "# In-built method of string.\n",
    "# Assignment."
   ]
  },
  {
   "cell_type": "code",
   "execution_count": null,
   "id": "43e0fe54-d1ce-48b9-aa5d-3fa9f96875a0",
   "metadata": {},
   "outputs": [],
   "source": [
    "# string is a dynamic data structure in python used to store group \n",
    "# of chars like : name,address,number.\n",
    "\n",
    "# 1.String are immutable\n",
    "# 2.String are indexed,ordered,slicing\n",
    "# 3.String creates by using ('string',\"string\",\"\"\"multiline str\"\"\",''' multiple str''')\n"
   ]
  },
  {
   "cell_type": "code",
   "execution_count": 54,
   "id": "6a57031c-1ffe-4490-a57f-4ab730af14b1",
   "metadata": {},
   "outputs": [
    {
     "name": "stdout",
     "output_type": "stream",
     "text": [
      "dev->'trainer' vishesh=> 'Student' \n",
      "dev \"v\"ishesh\n",
      "dev\n",
      "\"v\"ish\n",
      "'es'h\n",
      "\n",
      "dev \n",
      "\"v\"i's'hesh\n",
      "\n",
      "98787\n",
      "<class 'str'>\n"
     ]
    }
   ],
   "source": [
    "str1=\"dev->'trainer' vishesh=> 'Student' \"\n",
    "str2='dev \"v\"ishesh'\n",
    "str3=\"\"\"dev\n",
    "\"v\"ish\n",
    "'es'h\"\"\"\n",
    "str4='''\n",
    "dev \n",
    "\"v\"i's'hesh\n",
    "'''\n",
    "print(str1)\n",
    "print(str2)\n",
    "print(str3)\n",
    "print(str4)\n",
    "\n",
    "s=str(98787)\n",
    "print(s)\n",
    "print(type(s))\n",
    "\n"
   ]
  },
  {
   "cell_type": "code",
   "execution_count": 63,
   "id": "95e47aa5-0d29-48d8-a894-79dbed73ebc5",
   "metadata": {},
   "outputs": [
    {
     "name": "stdout",
     "output_type": "stream",
     "text": [
      "6\n",
      "N\n"
     ]
    }
   ],
   "source": [
    "str1=\"PYTHON\"\n",
    "print(len(str1))\n",
    "print(str1[len(str1)-1])"
   ]
  },
  {
   "cell_type": "code",
   "execution_count": 68,
   "id": "6f7ee875-04e6-4733-b404-a08d74f6c988",
   "metadata": {},
   "outputs": [
    {
     "name": "stdout",
     "output_type": "stream",
     "text": [
      "YTH\n"
     ]
    }
   ],
   "source": [
    "# str1=\"PYTHON\"\n",
    "# print(str1[1:4])"
   ]
  },
  {
   "cell_type": "code",
   "execution_count": 73,
   "id": "8adfda7b-a964-472b-967a-ecc78bb210cf",
   "metadata": {},
   "outputs": [
    {
     "name": "stdout",
     "output_type": "stream",
     "text": [
      "PYTHON\n",
      "POI08374UYTHON\n"
     ]
    }
   ],
   "source": [
    "str1=\"PYTHON\"\n",
    "new=str1.replace(\"P\",\"POI08374U\")\n",
    "print(str1)\n",
    "print(new)"
   ]
  },
  {
   "cell_type": "code",
   "execution_count": 77,
   "id": "9e2128a6-f14e-4013-940c-954360ff6dce",
   "metadata": {},
   "outputs": [
    {
     "name": "stdout",
     "output_type": "stream",
     "text": [
      "P Y T H O N "
     ]
    }
   ],
   "source": [
    "# # Traversing of string.\n",
    "# 1.while loop\n",
    "str1=\"PYTHON\"\n",
    "i=0\n",
    "while i<len(str1):\n",
    "    print(str1[i],end=\" \")\n",
    "    i+=1"
   ]
  },
  {
   "cell_type": "code",
   "execution_count": 82,
   "id": "718a97df-d12f-4baa-822b-fda546ad7f6f",
   "metadata": {},
   "outputs": [
    {
     "name": "stdout",
     "output_type": "stream",
     "text": [
      "P\n",
      "Y\n",
      "T\n",
      "H\n",
      "O\n",
      "N\n"
     ]
    }
   ],
   "source": [
    "# 2.for loop\n",
    "# str1=\"PYTHON\"\n",
    "# for i in range(len(str1)):\n",
    "#     print(str1[i])\n",
    "\n",
    "# str1=\"PYTHON\"\n",
    "# for i in str1:\n",
    "#     print(i)\n",
    "\n",
    "\n",
    "# for i in \"PYTHON\":\n",
    "#     print(i)"
   ]
  },
  {
   "cell_type": "code",
   "execution_count": 73,
   "id": "15692751-8a61-4bee-8c7d-f8fb2e98fb8d",
   "metadata": {},
   "outputs": [
    {
     "name": "stdout",
     "output_type": "stream",
     "text": [
      "67576\n",
      "67576\n",
      "67576\n",
      "67576\n",
      "67576\n"
     ]
    }
   ],
   "source": [
    "# In-built method of string.\n",
    "str1=\"Hello yeiuyr\"\n",
    "print(str1.upper())\n",
    "print(str1.lower())\n",
    "print(str1.capitalize())\n",
    "print(str1.casefold())\n",
    "# print(str1.isupper())\n",
    "# print(str1.islower())\n",
    "# print(str1.istitle())\n",
    "# print(str1.isalnum())\n",
    "# print(str1.isascii())\n",
    "# print(str1.isdigit())\n",
    "# print(str1.isdecimal())\n",
    "# print(str1.isidentifier())\n",
    "# print(str1.isnumeric())\n",
    "# print(str1.isprintable())\n",
    "# print(str1.isspace())\n",
    "# res=\"\".join(['a',\"b\",\"c\"])\n",
    "# # print(res)\n",
    "# print(str1.strip())\n",
    "# print(str1.lstrip())\n",
    "# print(str1.rstrip())\n",
    "# res=str1.partition(\" \")\n",
    "# print(res)\n",
    "# print(str1.startswith(\"a\"))\n",
    "# print(str1.endswith(\"n\"))\n",
    "# res=str1.ljust(20,\"*\")\n",
    "# print(res)\n",
    "# res=str1.rjust(20,\"*\")\n",
    "# print(res)\n",
    "# res=str1.split(\" \")\n",
    "# res=str1.splitlines()\n",
    "# print(str1.zfill(10))\n",
    "swap=str1.swapcase()\n",
    "print(swap)"
   ]
  },
  {
   "cell_type": "code",
   "execution_count": 85,
   "id": "3583db81-edd1-43bf-ac86-ebf0bd93709f",
   "metadata": {},
   "outputs": [],
   "source": [
    "# dir()"
   ]
  }
 ],
 "metadata": {
  "kernelspec": {
   "display_name": "Python 3 (ipykernel)",
   "language": "python",
   "name": "python3"
  },
  "language_info": {
   "codemirror_mode": {
    "name": "ipython",
    "version": 3
   },
   "file_extension": ".py",
   "mimetype": "text/x-python",
   "name": "python",
   "nbconvert_exporter": "python",
   "pygments_lexer": "ipython3",
   "version": "3.13.5"
  }
 },
 "nbformat": 4,
 "nbformat_minor": 5
}
