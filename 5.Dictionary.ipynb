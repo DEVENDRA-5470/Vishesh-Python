{
 "cells": [
  {
   "cell_type": "code",
   "execution_count": 1,
   "id": "3f4d3e1a-9bb4-4f83-a219-8d9d2c15e2a5",
   "metadata": {},
   "outputs": [],
   "source": [
    "# Dictionary\n",
    "# 1.Dictionary is data structure in python used to store multiple data of different type in form key:value pair.\n",
    "# 2.Dictionary are mutable\n",
    "# 3.Dictionary key must be unique and primitive types \n",
    "# 4.Dictionary key are work like index (not support indexing like 0,1,2)"
   ]
  },
  {
   "cell_type": "code",
   "execution_count": 5,
   "id": "1d1f79e7-41cf-44b3-aeba-ccd44f6d0838",
   "metadata": {},
   "outputs": [
    {
     "name": "stdout",
     "output_type": "stream",
     "text": [
      "{'name': 'vishesh', 'roll': 789, 'address': 'NZ', 'pin': 67676, 'subject': 'Computer Science'}\n"
     ]
    }
   ],
   "source": [
    "# Creation\n",
    "stu_profile={'name':\"vishesh\",'roll':789,\"address\":\"NZ\",\"pin\":67676,\"subject\":\"Computer Science\"}\n",
    "print(stu_profile)"
   ]
  },
  {
   "cell_type": "code",
   "execution_count": 18,
   "id": "95e1b4a4-1353-44a8-bdd6-50433eb62924",
   "metadata": {},
   "outputs": [
    {
     "name": "stdout",
     "output_type": "stream",
     "text": [
      "vishesh\n",
      "789\n",
      "['a', 'b', 'c']\n"
     ]
    }
   ],
   "source": [
    "# Accessing\n",
    "stu_profile={'name':\"vishesh\", 'hobbies':[\"a\",\"b\",\"c\"], 'roll':789, 3:\"NZ\", \"pin\":67676, \"subject\":\"Computer Science\"}\n",
    "print(stu_profile['name'])\n",
    "print(stu_profile['roll'])\n",
    "print(stu_profile['hobbies'])"
   ]
  },
  {
   "cell_type": "code",
   "execution_count": 20,
   "id": "2ae08837-a110-4435-a8d8-a4ef7251a0bf",
   "metadata": {},
   "outputs": [
    {
     "name": "stdout",
     "output_type": "stream",
     "text": [
      "{'name': 'Aman', 'hobbies': ['a', 'b', 'c'], 'roll': 789, 3: 'INDIA', 'pin': 67676, 'subject': 'Computer Science'}\n"
     ]
    }
   ],
   "source": [
    "# update\n",
    "stu_profile={'name':\"vishesh\", 'hobbies':[\"a\",\"b\",\"c\"], 'roll':789, 3:\"NZ\", \"pin\":67676, \"subject\":\"Computer Science\"}\n",
    "stu_profile['name']=\"Aman\"\n",
    "stu_profile[3]=\"INDIA\"\n",
    "print(stu_profile)"
   ]
  },
  {
   "cell_type": "code",
   "execution_count": 25,
   "id": "37c26e39-aba9-43dc-9f37-47cd0761b108",
   "metadata": {},
   "outputs": [
    {
     "name": "stdout",
     "output_type": "stream",
     "text": [
      "vishesh\n",
      "Nhi hai\n"
     ]
    }
   ],
   "source": [
    "# bUILT IN METHODS\n",
    "# get()\n",
    "stu_profile={'name':\"vishesh\", 'hobbies':[\"a\",\"b\",\"c\"], 'roll':789, 3:\"NZ\", \"pin\":67676, \"subject\":\"Computer Science\"}\n",
    "print(stu_profile.get('name'))\n",
    "print(stu_profile.get(\"xyz\",\"Nhi hai\"))"
   ]
  },
  {
   "cell_type": "code",
   "execution_count": 26,
   "id": "fd8afaec-4f6c-44eb-bc22-94876c1626dd",
   "metadata": {},
   "outputs": [
    {
     "name": "stdout",
     "output_type": "stream",
     "text": [
      "{'name': 'dev', 'hobbies': ['a', 'b', 'c'], 'roll': 789, 3: 'NZ', 'pin': 67676, 'subject': 'Computer Science', 'collage': 'muj'}\n"
     ]
    }
   ],
   "source": [
    "# update()\n",
    "stu_profile={'name':\"vishesh\", 'hobbies':[\"a\",\"b\",\"c\"], 'roll':789, 3:\"NZ\", \"pin\":67676, \"subject\":\"Computer Science\"}\n",
    "stu_profile.update({'name':\"dev\",\"collage\":\"muj\"})\n",
    "print(stu_profile)"
   ]
  },
  {
   "cell_type": "code",
   "execution_count": 27,
   "id": "2fafb978-ce78-4a8b-888c-53d79c27dc4a",
   "metadata": {},
   "outputs": [
    {
     "name": "stdout",
     "output_type": "stream",
     "text": [
      "dict_keys(['name', 'hobbies', 'roll', 3, 'pin', 'subject'])\n"
     ]
    }
   ],
   "source": [
    "# key()\n",
    "stu_profile={'name':\"vishesh\", 'hobbies':[\"a\",\"b\",\"c\"], 'roll':789, 3:\"NZ\", \"pin\":67676, \"subject\":\"Computer Science\"}\n",
    "print(stu_profile.keys())"
   ]
  },
  {
   "cell_type": "code",
   "execution_count": 28,
   "id": "57cc6c23-2fa3-4cd0-bc80-ffb5395e0587",
   "metadata": {},
   "outputs": [
    {
     "name": "stdout",
     "output_type": "stream",
     "text": [
      "dict_values(['vishesh', ['a', 'b', 'c'], 789, 'NZ', 67676, 'Computer Science'])\n"
     ]
    }
   ],
   "source": [
    "# values()\n",
    "stu_profile={'name':\"vishesh\", 'hobbies':[\"a\",\"b\",\"c\"], 'roll':789, 3:\"NZ\", \"pin\":67676, \"subject\":\"Computer Science\"}\n",
    "print(stu_profile.values())"
   ]
  },
  {
   "cell_type": "code",
   "execution_count": 29,
   "id": "e1587c39-d508-44ca-adcb-9a61eb59dbf2",
   "metadata": {},
   "outputs": [
    {
     "name": "stdout",
     "output_type": "stream",
     "text": [
      "dict_items([('name', 'vishesh'), ('hobbies', ['a', 'b', 'c']), ('roll', 789), (3, 'NZ'), ('pin', 67676), ('subject', 'Computer Science')])\n"
     ]
    }
   ],
   "source": [
    "# items()\n",
    "stu_profile={'name':\"vishesh\", 'hobbies':[\"a\",\"b\",\"c\"], 'roll':789, 3:\"NZ\", \"pin\":67676, \"subject\":\"Computer Science\"}\n",
    "print(stu_profile.items())"
   ]
  },
  {
   "cell_type": "code",
   "execution_count": 32,
   "id": "6326fc7c-75b5-491e-a1f1-76e4080eb49a",
   "metadata": {},
   "outputs": [
    {
     "name": "stdout",
     "output_type": "stream",
     "text": [
      "vishesh\n",
      "{'hobbies': ['a', 'b', 'c'], 'roll': 789, 3: 'NZ', 'pin': 67676, 'subject': 'Computer Science'}\n"
     ]
    }
   ],
   "source": [
    "# pop()\n",
    "stu_profile={'name':\"vishesh\", 'hobbies':[\"a\",\"b\",\"c\"], 'roll':789, 3:\"NZ\", \"pin\":67676, \"subject\":\"Computer Science\"}\n",
    "print(stu_profile.pop('name'))\n",
    "print(stu_profile)"
   ]
  },
  {
   "cell_type": "code",
   "execution_count": 33,
   "id": "bf116def-49db-4d0f-b6f5-87d0ecd5796b",
   "metadata": {},
   "outputs": [
    {
     "name": "stdout",
     "output_type": "stream",
     "text": [
      "{'name': 'vishesh', 'hobbies': ['a', 'b', 'c'], 'roll': 789, 3: 'NZ', 'pin': 67676}\n"
     ]
    }
   ],
   "source": [
    "# popitem()\n",
    "stu_profile={'name':\"vishesh\", 'hobbies':[\"a\",\"b\",\"c\"], 'roll':789, 3:\"NZ\", \"pin\":67676, \"subject\":\"Computer Science\"}\n",
    "stu_profile.popitem()\n",
    "print(stu_profile)"
   ]
  },
  {
   "cell_type": "code",
   "execution_count": 35,
   "id": "88169817-7e3b-43e8-bf00-e214fc246e3e",
   "metadata": {},
   "outputs": [
    {
     "name": "stdout",
     "output_type": "stream",
     "text": [
      "{}\n"
     ]
    }
   ],
   "source": [
    "# clear()\n",
    "stu_profile={'name':\"vishesh\", 'hobbies':[\"a\",\"b\",\"c\"], 'roll':789, 3:\"NZ\", \"pin\":67676, \"subject\":\"Computer Science\"}\n",
    "stu_profile.clear()\n",
    "print(stu_profile)"
   ]
  },
  {
   "cell_type": "code",
   "execution_count": 38,
   "id": "c48463d6-774e-4736-aa1f-094bb5ef403c",
   "metadata": {},
   "outputs": [
    {
     "name": "stdout",
     "output_type": "stream",
     "text": [
      "{'aman': 23, 'vish': 44, 'dev': 55}\n"
     ]
    }
   ],
   "source": [
    "l=[\"aman\",\"vish\",\"dev\"]\n",
    "m=[23,44,55]\n",
    "res=zip(l,m)\n",
    "print(dict(res))"
   ]
  },
  {
   "cell_type": "code",
   "execution_count": 39,
   "id": "79701057-c044-4669-9d81-09a758c015b2",
   "metadata": {},
   "outputs": [
    {
     "name": "stdout",
     "output_type": "stream",
     "text": [
      "<class 'dict'>\n"
     ]
    }
   ],
   "source": [
    "d={}\n",
    "print(type(d))"
   ]
  },
  {
   "cell_type": "code",
   "execution_count": 40,
   "id": "2f69ea59-1b10-4e25-8081-2f742482a4f2",
   "metadata": {},
   "outputs": [
    {
     "name": "stdout",
     "output_type": "stream",
     "text": [
      "<class 'set'>\n"
     ]
    }
   ],
   "source": [
    "s=set()\n",
    "print(type(s))"
   ]
  },
  {
   "cell_type": "code",
   "execution_count": 47,
   "id": "4e7ed5b4-4374-4cb8-8ea2-92db23d713c7",
   "metadata": {},
   "outputs": [
    {
     "name": "stdout",
     "output_type": "stream",
     "text": [
      "vishesh\n",
      "['a', 'b', 'c']\n",
      "789\n",
      "NZ\n",
      "67676\n",
      "Computer Science\n"
     ]
    }
   ],
   "source": [
    "# Traversing\n",
    "stu_profile={'name':\"vishesh\", 'hobbies':[\"a\",\"b\",\"c\"], 'roll':789, 3:\"NZ\", \"pin\":67676, \"subject\":\"Computer Science\"}\n",
    "for i in stu_profile.values():\n",
    "    print(i)"
   ]
  },
  {
   "cell_type": "code",
   "execution_count": 48,
   "id": "8af27263-2396-4ded-845b-228ee2878898",
   "metadata": {},
   "outputs": [
    {
     "name": "stdout",
     "output_type": "stream",
     "text": [
      "name : vishesh\n",
      "hobbies : ['a', 'b', 'c']\n",
      "roll : 789\n",
      "3 : NZ\n",
      "pin : 67676\n",
      "subject : Computer Science\n"
     ]
    }
   ],
   "source": [
    "stu_profile={'name':\"vishesh\", 'hobbies':[\"a\",\"b\",\"c\"], 'roll':789, 3:\"NZ\", \"pin\":67676, \"subject\":\"Computer Science\"}\n",
    "for k,v in stu_profile.items():\n",
    "    print(k,\":\",v)"
   ]
  },
  {
   "cell_type": "code",
   "execution_count": null,
   "id": "9be62562-9c88-41c5-9901-b6cbbe4df21f",
   "metadata": {},
   "outputs": [],
   "source": [
    "print(\"Completed\")\n",
    "print(\"This is completed\")"
   ]
  }
 ],
 "metadata": {
  "kernelspec": {
   "display_name": "Python 3 (ipykernel)",
   "language": "python",
   "name": "python3"
  },
  "language_info": {
   "codemirror_mode": {
    "name": "ipython",
    "version": 3
   },
   "file_extension": ".py",
   "mimetype": "text/x-python",
   "name": "python",
   "nbconvert_exporter": "python",
   "pygments_lexer": "ipython3",
   "version": "3.13.5"
  }
 },
 "nbformat": 4,
 "nbformat_minor": 5
}
