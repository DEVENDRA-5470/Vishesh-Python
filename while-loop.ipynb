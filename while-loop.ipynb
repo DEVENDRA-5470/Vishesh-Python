{
 "cells": [
  {
   "cell_type": "code",
   "execution_count": null,
   "id": "d1f93e6b-1ddd-4464-a2c5-a2bc54350364",
   "metadata": {},
   "outputs": [],
   "source": [
    "initial_stage\n",
    "conditional_stage\n",
    "increament/decreament_stage"
   ]
  },
  {
   "cell_type": "code",
   "execution_count": 4,
   "id": "c2fd5584-11d5-4039-85b2-b841ad10cf60",
   "metadata": {},
   "outputs": [
    {
     "name": "stdout",
     "output_type": "stream",
     "text": [
      "10\n",
      "9\n",
      "8\n",
      "7\n",
      "6\n",
      "5\n",
      "4\n",
      "3\n",
      "2\n",
      "1\n"
     ]
    }
   ],
   "source": [
    "i=10\n",
    "while i>=1:\n",
    "    print(i)\n",
    "    i-=1"
   ]
  },
  {
   "cell_type": "code",
   "execution_count": null,
   "id": "a22489fc-0f34-4281-8f87-9518086bbd69",
   "metadata": {},
   "outputs": [],
   "source": []
  }
 ],
 "metadata": {
  "kernelspec": {
   "display_name": "Python 3 (ipykernel)",
   "language": "python",
   "name": "python3"
  },
  "language_info": {
   "codemirror_mode": {
    "name": "ipython",
    "version": 3
   },
   "file_extension": ".py",
   "mimetype": "text/x-python",
   "name": "python",
   "nbconvert_exporter": "python",
   "pygments_lexer": "ipython3",
   "version": "3.13.3"
  }
 },
 "nbformat": 4,
 "nbformat_minor": 5
}
