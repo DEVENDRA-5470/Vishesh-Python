{
 "cells": [
  {
   "cell_type": "code",
   "execution_count": null,
   "id": "ee180c28-d837-40b0-aa12-468666cb340a",
   "metadata": {},
   "outputs": [],
   "source": [
    "# Bitwise Operator (&,~,^,<<,>>)"
   ]
  },
  {
   "cell_type": "code",
   "execution_count": 1,
   "id": "c881941e-8900-4648-bb76-eb27efc0f6a7",
   "metadata": {},
   "outputs": [
    {
     "name": "stdout",
     "output_type": "stream",
     "text": [
      "2\n"
     ]
    }
   ],
   "source": [
    "a=3\n",
    "b=2\n",
    "print(a&b)"
   ]
  },
  {
   "cell_type": "code",
   "execution_count": 11,
   "id": "f38cdddb-7f9e-4f81-b437-d8c8f4ca2c61",
   "metadata": {},
   "outputs": [
    {
     "name": "stdout",
     "output_type": "stream",
     "text": [
      "3\n"
     ]
    }
   ],
   "source": [
    "a=3\n",
    "b=2\n",
    "print(a | b)"
   ]
  },
  {
   "cell_type": "code",
   "execution_count": null,
   "id": "a211bc29-95b3-417b-9c72-9a3a7abb51dc",
   "metadata": {},
   "outputs": [],
   "source": [
    "a=3\n",
    "b=2\n",
    "print(a | b)"
   ]
  },
  {
   "cell_type": "code",
   "execution_count": 1,
   "id": "99142154-ea6b-4d5d-9469-520db32f23d8",
   "metadata": {},
   "outputs": [
    {
     "name": "stdout",
     "output_type": "stream",
     "text": [
      "12\n"
     ]
    }
   ],
   "source": [
    "a=3\n",
    "b=2\n",
    "print(a << b)"
   ]
  },
  {
   "cell_type": "code",
   "execution_count": 2,
   "id": "6802219d-7679-4845-8124-3fb3904e1c55",
   "metadata": {},
   "outputs": [
    {
     "name": "stdout",
     "output_type": "stream",
     "text": [
      "0\n"
     ]
    }
   ],
   "source": [
    "a=3\n",
    "b=2\n",
    "print(a >> b)"
   ]
  },
  {
   "cell_type": "code",
   "execution_count": 2,
   "id": "ceed7840-a2d5-404b-94ac-c49c97a97e4d",
   "metadata": {},
   "outputs": [
    {
     "name": "stdout",
     "output_type": "stream",
     "text": [
      "0b11\n",
      "0b10\n"
     ]
    }
   ],
   "source": [
    "print(bin(3))\n",
    "print(bin(2))"
   ]
  },
  {
   "cell_type": "code",
   "execution_count": null,
   "id": "5c1bf7bd-bce6-4142-9414-5f4ead9fd62f",
   "metadata": {},
   "outputs": [],
   "source": [
    "a  b  a|b\n",
    "0  0   0\n",
    "0  0   0\n",
    "1  1   1\n",
    "1  0   1"
   ]
  }
 ],
 "metadata": {
  "kernelspec": {
   "display_name": "Python 3 (ipykernel)",
   "language": "python",
   "name": "python3"
  },
  "language_info": {
   "codemirror_mode": {
    "name": "ipython",
    "version": 3
   },
   "file_extension": ".py",
   "mimetype": "text/x-python",
   "name": "python",
   "nbconvert_exporter": "python",
   "pygments_lexer": "ipython3",
   "version": "3.13.3"
  }
 },
 "nbformat": 4,
 "nbformat_minor": 5
}
