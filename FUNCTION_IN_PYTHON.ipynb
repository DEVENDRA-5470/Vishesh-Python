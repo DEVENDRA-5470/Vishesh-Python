{
 "cells": [
  {
   "cell_type": "code",
   "execution_count": 1,
   "id": "228beea0-f1ab-4606-82ba-ed1dd26e81ec",
   "metadata": {},
   "outputs": [],
   "source": [
    "# 1.Every function has their own purpose.\n",
    "# 2.Function is a block of code.\n",
    "# 3.Function helps in easy to code and easy to debug.\n",
    "# 4.Functions are reusable.\n",
    "\n",
    "# Types of function :\n",
    "1.In-built methods\n",
    "2.UDF (User-Defined-function)\n",
    "\n",
    "# parameter and arguments\n",
    "# default parameter\n",
    "# position args\n",
    "# keyword args.\n",
    "# arbitrary args\n",
    "# return keyword\n",
    "\n",
    "# Categories of UDF.\n",
    "# 1.take nothing return nothing\n",
    "# 2.take nothing return something\n",
    "# 3.take something return nothing\n",
    "# 4.take something return something \n",
    "\n",
    "# lambda function (anonymous function)\n",
    "# HOF:higher-order-function (filter(),map(),reduce())\n"
   ]
  },
  {
   "cell_type": "code",
   "execution_count": 2,
   "id": "0871917b-e488-4dba-84c3-947dbf204a71",
   "metadata": {},
   "outputs": [
    {
     "name": "stdout",
     "output_type": "stream",
     "text": [
      "This is my function\n"
     ]
    }
   ],
   "source": [
    "# defining and calling\n",
    "\n",
    "# function defination\n",
    "def fun():\n",
    "    print(\"This is my function\")\n",
    "# function calling\n",
    "fun()"
   ]
  },
  {
   "cell_type": "code",
   "execution_count": 12,
   "id": "39fbf88a-791e-47f0-b152-0232df0f0522",
   "metadata": {},
   "outputs": [
    {
     "name": "stdout",
     "output_type": "stream",
     "text": [
      "This is my function\n"
     ]
    }
   ],
   "source": [
    "# 1.take nothing return nothing\n",
    "def fun():\n",
    "    print(\"This is my function\")\n",
    "fun()"
   ]
  },
  {
   "cell_type": "code",
   "execution_count": 26,
   "id": "d25228c2-d6fe-462a-a496-6b1fdfa07d9d",
   "metadata": {},
   "outputs": [
    {
     "name": "stdout",
     "output_type": "stream",
     "text": [
      "\n",
      "    Name:MUJ \n",
      "    Course:Computer \n",
      "    ID:DEV:88989\n"
     ]
    }
   ],
   "source": [
    "# position args\n",
    "# 3.take something return nothing\n",
    "\n",
    "def show_details(name,course,sid):\n",
    "    print(f\"\"\"\n",
    "    Name:{name} \n",
    "    Course:{course} \n",
    "    ID:{sid}\"\"\")\n",
    "show_details(\"MUJ\",\"Computer\",\"DEV:88989\")"
   ]
  },
  {
   "cell_type": "code",
   "execution_count": 27,
   "id": "8428581b-e84e-405d-b349-c292b4c3d45b",
   "metadata": {},
   "outputs": [
    {
     "name": "stdout",
     "output_type": "stream",
     "text": [
      "\n",
      "    Name:DEV \n",
      "    Course:Computer \n",
      "    ID:ID:8989\n"
     ]
    }
   ],
   "source": [
    "# keyword args.\n",
    "# 3.take something return nothing\n",
    "\n",
    "def show_details(name,sid,course):\n",
    "    print(f\"\"\"\n",
    "    Name:{name} \n",
    "    Course:{course} \n",
    "    ID:{sid}\"\"\")\n",
    "show_details(sid=\"ID:8989\",course=\"Computer\",name=\"DEV\")"
   ]
  },
  {
   "cell_type": "code",
   "execution_count": 35,
   "id": "1e2b9fae-7a73-457b-b9a3-2b855219549d",
   "metadata": {},
   "outputs": [
    {
     "name": "stdout",
     "output_type": "stream",
     "text": [
      "{'sid': 'ID:8989', 'course': 'Computer', 'name': 'DEV'}\n",
      "\n",
      "    Name:DEV \n",
      "    Course:Computer \n",
      "    ID:ID:8989\n"
     ]
    }
   ],
   "source": [
    "# keyword args.\n",
    "# 3.take something return nothing \n",
    "def show_details(**kwargs):\n",
    "    print(kwargs)\n",
    "    print(f\"\"\"\n",
    "    Name:{kwargs.get('name',\"N/A\")} \n",
    "    Course:{kwargs.get('course',\"N/A\")} \n",
    "    ID:{kwargs.get('sid',\"N/A\")}\"\"\")\n",
    "show_details(sid=\"ID:8989\",course=\"Computer\",name=\"DEV\")"
   ]
  },
  {
   "cell_type": "code",
   "execution_count": 56,
   "id": "16fdfa65-02cc-44bb-bc98-93adec3d0554",
   "metadata": {},
   "outputs": [
    {
     "name": "stdout",
     "output_type": "stream",
     "text": [
      "(1, 2, 4, 5, 6, 8, 9)\n",
      "35\n"
     ]
    }
   ],
   "source": [
    "# arbitrary args\n",
    "# 3.take something return nothing\n",
    "def add(*a):\n",
    "    print(a)\n",
    "    print(sum(a))\n",
    "add(1,2,4,5,6,8,9)"
   ]
  },
  {
   "cell_type": "code",
   "execution_count": 54,
   "id": "d727e27e-8e78-4fed-91bf-86ab315dda38",
   "metadata": {},
   "outputs": [
    {
     "name": "stdout",
     "output_type": "stream",
     "text": [
      "50\n"
     ]
    }
   ],
   "source": [
    "# 3.take something return nothing\n",
    "# default parameter\n",
    "def mul(a=1,b=1):\n",
    "    print(a*b)\n",
    "a=10\n",
    "b=5\n",
    "mul(a,b)"
   ]
  },
  {
   "cell_type": "code",
   "execution_count": 63,
   "id": "bddb4bb1-2ea3-4732-860b-5d3713e65e22",
   "metadata": {},
   "outputs": [
    {
     "name": "stdout",
     "output_type": "stream",
     "text": [
      "vishesh\n"
     ]
    }
   ],
   "source": [
    "# 4.take something return something \n",
    "def salary(x):\n",
    "    # return x\n",
    "    return \"vishesh\"\n",
    "my=salary(1000)\n",
    "print(my)\n"
   ]
  }
 ],
 "metadata": {
  "kernelspec": {
   "display_name": "Python 3 (ipykernel)",
   "language": "python",
   "name": "python3"
  },
  "language_info": {
   "codemirror_mode": {
    "name": "ipython",
    "version": 3
   },
   "file_extension": ".py",
   "mimetype": "text/x-python",
   "name": "python",
   "nbconvert_exporter": "python",
   "pygments_lexer": "ipython3",
   "version": "3.13.5"
  }
 },
 "nbformat": 4,
 "nbformat_minor": 5
}
