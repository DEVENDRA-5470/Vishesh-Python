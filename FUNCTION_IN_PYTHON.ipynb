{
 "cells": [
  {
   "cell_type": "code",
   "execution_count": 1,
   "id": "228beea0-f1ab-4606-82ba-ed1dd26e81ec",
   "metadata": {},
   "outputs": [],
   "source": [
    "# 1.Every function has their own purpose.\n",
    "# 2.Function is a block of code.\n",
    "# 3.Function helps in easy to code and easy to debug.\n",
    "# 4.Functions are reusable.\n",
    "\n",
    "# Types of function :\n",
    "1.In-built methods\n",
    "2.UDF (User-Defined-function)\n",
    "\n",
    "# parameter and arguments\n",
    "# default parameter\n",
    "# position args\n",
    "# keyword args.\n",
    "# arbitrary args\n",
    "# return keyword\n",
    "\n",
    "# Categories of UDF.\n",
    "# 1.take nothing return nothing\n",
    "# 2.take nothing return something\n",
    "# 3.take something return nothing\n",
    "# 4.take something return something \n",
    "\n",
    "# lambda function (anonymous function)\n",
    "# HOF:higher-order-function (filter(),map(),reduce())\n"
   ]
  },
  {
   "cell_type": "code",
   "execution_count": 2,
   "id": "0871917b-e488-4dba-84c3-947dbf204a71",
   "metadata": {},
   "outputs": [
    {
     "name": "stdout",
     "output_type": "stream",
     "text": [
      "This is my function\n"
     ]
    }
   ],
   "source": [
    "# defining and calling\n",
    "\n",
    "# function defination\n",
    "def fun():\n",
    "    print(\"This is my function\")\n",
    "# function calling\n",
    "fun()"
   ]
  },
  {
   "cell_type": "code",
   "execution_count": 12,
   "id": "39fbf88a-791e-47f0-b152-0232df0f0522",
   "metadata": {},
   "outputs": [
    {
     "name": "stdout",
     "output_type": "stream",
     "text": [
      "This is my function\n"
     ]
    }
   ],
   "source": [
    "# 1.take nothing return nothing\n",
    "def fun():\n",
    "    print(\"This is my function\")\n",
    "fun()"
   ]
  },
  {
   "cell_type": "code",
   "execution_count": 26,
   "id": "d25228c2-d6fe-462a-a496-6b1fdfa07d9d",
   "metadata": {},
   "outputs": [
    {
     "name": "stdout",
     "output_type": "stream",
     "text": [
      "\n",
      "    Name:MUJ \n",
      "    Course:Computer \n",
      "    ID:DEV:88989\n"
     ]
    }
   ],
   "source": [
    "# position args\n",
    "# 3.take something return nothing\n",
    "\n",
    "def show_details(name,course,sid):\n",
    "    print(f\"\"\"\n",
    "    Name:{name} \n",
    "    Course:{course} \n",
    "    ID:{sid}\"\"\")\n",
    "show_details(\"MUJ\",\"Computer\",\"DEV:88989\")"
   ]
  },
  {
   "cell_type": "code",
   "execution_count": 27,
   "id": "8428581b-e84e-405d-b349-c292b4c3d45b",
   "metadata": {},
   "outputs": [
    {
     "name": "stdout",
     "output_type": "stream",
     "text": [
      "\n",
      "    Name:DEV \n",
      "    Course:Computer \n",
      "    ID:ID:8989\n"
     ]
    }
   ],
   "source": [
    "# keyword args.\n",
    "# 3.take something return nothing\n",
    "\n",
    "def show_details(name,sid,course):\n",
    "    print(f\"\"\"\n",
    "    Name:{name} \n",
    "    Course:{course} \n",
    "    ID:{sid}\"\"\")\n",
    "show_details(sid=\"ID:8989\",course=\"Computer\",name=\"DEV\")"
   ]
  },
  {
   "cell_type": "code",
   "execution_count": 35,
   "id": "1e2b9fae-7a73-457b-b9a3-2b855219549d",
   "metadata": {},
   "outputs": [
    {
     "name": "stdout",
     "output_type": "stream",
     "text": [
      "{'sid': 'ID:8989', 'course': 'Computer', 'name': 'DEV'}\n",
      "\n",
      "    Name:DEV \n",
      "    Course:Computer \n",
      "    ID:ID:8989\n"
     ]
    }
   ],
   "source": [
    "# keyword args.\n",
    "# 3.take something return nothing \n",
    "def show_details(**kwargs):\n",
    "    print(kwargs)\n",
    "    print(f\"\"\"\n",
    "    Name:{kwargs.get('name',\"N/A\")} \n",
    "    Course:{kwargs.get('course',\"N/A\")} \n",
    "    ID:{kwargs.get('sid',\"N/A\")}\"\"\")\n",
    "show_details(sid=\"ID:8989\",course=\"Computer\",name=\"DEV\")"
   ]
  },
  {
   "cell_type": "code",
   "execution_count": 56,
   "id": "16fdfa65-02cc-44bb-bc98-93adec3d0554",
   "metadata": {},
   "outputs": [
    {
     "name": "stdout",
     "output_type": "stream",
     "text": [
      "(1, 2, 4, 5, 6, 8, 9)\n",
      "35\n"
     ]
    }
   ],
   "source": [
    "# arbitrary args\n",
    "# 3.take something return nothing\n",
    "def add(*a):\n",
    "    print(a)\n",
    "    print(sum(a))\n",
    "add(1,2,4,5,6,8,9)"
   ]
  },
  {
   "cell_type": "code",
   "execution_count": 54,
   "id": "d727e27e-8e78-4fed-91bf-86ab315dda38",
   "metadata": {},
   "outputs": [
    {
     "name": "stdout",
     "output_type": "stream",
     "text": [
      "50\n"
     ]
    }
   ],
   "source": [
    "# 3.take something return nothing\n",
    "# default parameter\n",
    "def mul(a=1,b=1):\n",
    "    print(a*b)\n",
    "a=10\n",
    "b=5\n",
    "mul(a,b)"
   ]
  },
  {
   "cell_type": "code",
   "execution_count": 65,
   "id": "bddb4bb1-2ea3-4732-860b-5d3713e65e22",
   "metadata": {},
   "outputs": [
    {
     "name": "stdout",
     "output_type": "stream",
     "text": [
      "Hello vishesh your salary is :1000 is creadited in your accout\n"
     ]
    }
   ],
   "source": [
    "# 4.take something return something \n",
    "def salary(x):\n",
    "    # return x\n",
    "    return \"Hello vishesh your salary is :\"+str(x) +\" is creadited in your accout\"\n",
    "my=salary(1000)\n",
    "print(my)\n"
   ]
  },
  {
   "cell_type": "code",
   "execution_count": 1,
   "id": "1724bbe7-e3f2-4625-89d4-655387a69124",
   "metadata": {},
   "outputs": [
    {
     "name": "stdout",
     "output_type": "stream",
     "text": [
      "30\n"
     ]
    }
   ],
   "source": [
    "# lambda function (anonymous function)\n",
    "# 1.Anonymous function\n",
    "# 2.One linear expression\n",
    "add=lambda x,y:x+y\n",
    "print(add(10,20))"
   ]
  },
  {
   "cell_type": "code",
   "execution_count": 2,
   "id": "155c5fe8-7efd-4ff5-8604-02c9291a2e02",
   "metadata": {},
   "outputs": [
    {
     "name": "stdout",
     "output_type": "stream",
     "text": [
      "30\n"
     ]
    }
   ],
   "source": [
    "def add(x,y):\n",
    "    return x+y\n",
    "res=add(10,20)\n",
    "print(res)"
   ]
  },
  {
   "cell_type": "code",
   "execution_count": 4,
   "id": "c1c6b023-d32b-46c9-a669-834c1201afa3",
   "metadata": {},
   "outputs": [
    {
     "name": "stdout",
     "output_type": "stream",
     "text": [
      "Odd\n"
     ]
    }
   ],
   "source": [
    "odd_even=lambda x:\"Even\" if x%2==0 else \"Odd\"\n",
    "print(odd_even(11))"
   ]
  },
  {
   "cell_type": "code",
   "execution_count": 11,
   "id": "d5ed8489-e542-4044-a92d-9135dd25a5aa",
   "metadata": {},
   "outputs": [
    {
     "name": "stdout",
     "output_type": "stream",
     "text": [
      "[100, 10, 40]\n"
     ]
    }
   ],
   "source": [
    "l=[10,20,30,40]\n",
    "s=lambda x:[sum(x) ,min(x) ,max(x)]\n",
    "print(s(l))"
   ]
  },
  {
   "cell_type": "code",
   "execution_count": 15,
   "id": "57036dc7-c5a8-449b-8720-3301f74df155",
   "metadata": {},
   "outputs": [
    {
     "name": "stdout",
     "output_type": "stream",
     "text": [
      "[10, 20, 55, 40, 33, 21]\n"
     ]
    },
    {
     "ename": "NameError",
     "evalue": "name 'x' is not defined",
     "output_type": "error",
     "traceback": [
      "\u001b[1;31m---------------------------------------------------------------------------\u001b[0m",
      "\u001b[1;31mNameError\u001b[0m                                 Traceback (most recent call last)",
      "Cell \u001b[1;32mIn[15], line 4\u001b[0m\n\u001b[0;32m      2\u001b[0m s\u001b[38;5;241m=\u001b[39m\u001b[38;5;28;01mlambda\u001b[39;00m x:x\n\u001b[0;32m      3\u001b[0m \u001b[38;5;28mprint\u001b[39m(s(l))\n\u001b[1;32m----> 4\u001b[0m \u001b[38;5;28mprint\u001b[39m(\u001b[43mx\u001b[49m)\n",
      "\u001b[1;31mNameError\u001b[0m: name 'x' is not defined"
     ]
    }
   ],
   "source": [
    "l=[10,20,55,40,33,21]\n",
    "s=lambda x:x\n",
    "print(s(l))\n",
    "\n",
    "def s(x):\n",
    "    print(x)\n",
    "s(l)"
   ]
  },
  {
   "cell_type": "code",
   "execution_count": null,
   "id": "4aa07268-2c56-4306-ade1-45f2483fe2fe",
   "metadata": {},
   "outputs": [],
   "source": []
  },
  {
   "cell_type": "code",
   "execution_count": 14,
   "id": "f3017528-3747-438f-b3ec-fc9f0f565708",
   "metadata": {},
   "outputs": [
    {
     "name": "stdout",
     "output_type": "stream",
     "text": [
      "[1, 2, 3, 4, 5, 6, 7, 8, 9]\n"
     ]
    }
   ],
   "source": [
    "myl=[i for i in range(1,10)]\n",
    "print(myl)"
   ]
  },
  {
   "cell_type": "code",
   "execution_count": 24,
   "id": "e162db22-9129-42a8-b2ce-8ff8d68ead92",
   "metadata": {},
   "outputs": [
    {
     "name": "stdout",
     "output_type": "stream",
     "text": [
      "Ha vowel hai\n"
     ]
    }
   ],
   "source": [
    "def check_vowel(x):\n",
    "    if \"a\" in x or \"e\" in x or \"i\" in x or \"o\" in x or \"u\" in x:\n",
    "        print(\"Ha vowel hai\")\n",
    "    else:\n",
    "        print(\"Voewl nhi hai\")\n",
    "check_vowel(\"rahul\")"
   ]
  },
  {
   "cell_type": "code",
   "execution_count": 36,
   "id": "ff841a26-f956-4006-9508-af70bb1aaf78",
   "metadata": {},
   "outputs": [
    {
     "name": "stdout",
     "output_type": "stream",
     "text": [
      "['aa', 'mn']\n"
     ]
    }
   ],
   "source": [
    "check_vow=lambda x:[\"\".join([i if i in \"aeiou\" else \"\" for i in x]),\n",
    "                    \"\".join([i if i not in \"aeiou\" else \"\" for i in x])]\n",
    "res=check_vow(\"aman\")\n",
    "print(res)"
   ]
  },
  {
   "cell_type": "code",
   "execution_count": 87,
   "id": "4d4e334c-764d-4b45-88cc-87caa192e371",
   "metadata": {},
   "outputs": [
    {
     "name": "stdout",
     "output_type": "stream",
     "text": [
      "[92, 80, 74, 71, 85, 57]\n"
     ]
    }
   ],
   "source": [
    "# HOF:higher-order-function (filter(),map(),reduce())\n",
    "# Higher order function = take another as its args.\n",
    "\n",
    "import random\n",
    "meri_list=[int(random.random()*100) for i in range(1,11)]\n",
    "print(meri_list)\n",
    "\n",
    "def check_pass(l):\n",
    "    pass_stu=[]\n",
    "    for i in l:\n",
    "        if i>45:\n",
    "            pass_stu.append(i)\n",
    "    return pass_stu\n",
    "\n",
    "res=list(filter(check_pass,meri_list))\n",
    "\n"
   ]
  },
  {
   "cell_type": "code",
   "execution_count": 98,
   "id": "b1caf0dd-b71d-43d7-9709-77d2cfc13861",
   "metadata": {},
   "outputs": [
    {
     "name": "stdout",
     "output_type": "stream",
     "text": [
      "[61, 83, 73, 56, 46]\n"
     ]
    }
   ],
   "source": [
    "import random\n",
    "print(list(filter(lambda x:x>45,[int(random.random()*100) for i in range(1,11)])))\n"
   ]
  },
  {
   "cell_type": "code",
   "execution_count": 167,
   "id": "3a6a4198-7613-45f9-8b3d-d77d448119b9",
   "metadata": {},
   "outputs": [
    {
     "name": "stdout",
     "output_type": "stream",
     "text": [
      "oau\n"
     ]
    }
   ],
   "source": [
    "import random\n",
    "import string\n",
    "print(\"\".join(list(filter(lambda x:x in \"aeiou\",[random.choice(string.ascii_lowercase) for i in range(1,11)]))))\n"
   ]
  }
 ],
 "metadata": {
  "kernelspec": {
   "display_name": "Python 3 (ipykernel)",
   "language": "python",
   "name": "python3"
  },
  "language_info": {
   "codemirror_mode": {
    "name": "ipython",
    "version": 3
   },
   "file_extension": ".py",
   "mimetype": "text/x-python",
   "name": "python",
   "nbconvert_exporter": "python",
   "pygments_lexer": "ipython3",
   "version": "3.13.5"
  }
 },
 "nbformat": 4,
 "nbformat_minor": 5
}
